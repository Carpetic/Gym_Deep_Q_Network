{
 "cells": [
  {
   "attachments": {},
   "cell_type": "markdown",
   "id": "2d96a286",
   "metadata": {},
   "source": [
    "## Installation"
   ]
  },
  {
   "cell_type": "code",
   "execution_count": 70,
   "id": "1e6d8b3d",
   "metadata": {},
   "outputs": [
    {
     "name": "stdout",
     "output_type": "stream",
     "text": [
      "Defaulting to user installation because normal site-packages is not writeable\n",
      "Requirement already satisfied: gym in /home/hugo/.local/lib/python3.8/site-packages (0.21.0)\n",
      "Requirement already satisfied: cloudpickle>=1.2.0 in /home/hugo/.local/lib/python3.8/site-packages (from gym) (2.2.0)\n",
      "Requirement already satisfied: numpy>=1.18.0 in /home/hugo/.local/lib/python3.8/site-packages (from gym) (1.22.3)\n",
      "Note: you may need to restart the kernel to use updated packages.\n",
      "Defaulting to user installation because normal site-packages is not writeable\n",
      "\u001b[31mERROR: Could not find a version that satisfies the requirement random (from versions: none)\u001b[0m\u001b[31m\n",
      "\u001b[0m\u001b[31mERROR: No matching distribution found for random\u001b[0m\u001b[31m\n",
      "\u001b[0mNote: you may need to restart the kernel to use updated packages.\n",
      "Defaulting to user installation because normal site-packages is not writeable\n",
      "Requirement already satisfied: numpy in /home/hugo/.local/lib/python3.8/site-packages (1.22.3)\n",
      "Note: you may need to restart the kernel to use updated packages.\n",
      "Defaulting to user installation because normal site-packages is not writeable\n",
      "Requirement already satisfied: matplotlib in /home/hugo/.local/lib/python3.8/site-packages (3.6.2)\n",
      "Requirement already satisfied: numpy>=1.19 in /home/hugo/.local/lib/python3.8/site-packages (from matplotlib) (1.22.3)\n",
      "Requirement already satisfied: kiwisolver>=1.0.1 in /home/hugo/.local/lib/python3.8/site-packages (from matplotlib) (1.4.4)\n",
      "Requirement already satisfied: python-dateutil>=2.7 in /home/hugo/.local/lib/python3.8/site-packages (from matplotlib) (2.8.2)\n",
      "Requirement already satisfied: contourpy>=1.0.1 in /home/hugo/.local/lib/python3.8/site-packages (from matplotlib) (1.0.6)\n",
      "Requirement already satisfied: cycler>=0.10 in /home/hugo/.local/lib/python3.8/site-packages (from matplotlib) (0.11.0)\n",
      "Requirement already satisfied: pyparsing>=2.2.1 in /home/hugo/.local/lib/python3.8/site-packages (from matplotlib) (3.0.7)\n",
      "Requirement already satisfied: fonttools>=4.22.0 in /home/hugo/.local/lib/python3.8/site-packages (from matplotlib) (4.38.0)\n",
      "Requirement already satisfied: pillow>=6.2.0 in /home/hugo/.local/lib/python3.8/site-packages (from matplotlib) (9.1.0)\n",
      "Requirement already satisfied: packaging>=20.0 in /home/hugo/.local/lib/python3.8/site-packages (from matplotlib) (21.3)\n",
      "Requirement already satisfied: six>=1.5 in /usr/lib/python3/dist-packages (from python-dateutil>=2.7->matplotlib) (1.14.0)\n",
      "Note: you may need to restart the kernel to use updated packages.\n"
     ]
    }
   ],
   "source": [
    "%pip install gym==0.21.0\n",
    "%pip install numpy\n",
    "%pip install matplotlib"
   ]
  },
  {
   "attachments": {},
   "cell_type": "markdown",
   "id": "f7103c06",
   "metadata": {},
   "source": [
    "## Environement Setup"
   ]
  },
  {
   "cell_type": "code",
   "execution_count": 6,
   "id": "7204cbdd",
   "metadata": {},
   "outputs": [],
   "source": [
    "import gym\n",
    "import numpy as np\n",
    "import matplotlib.pyplot as plt"
   ]
  },
  {
   "cell_type": "code",
   "execution_count": 18,
   "id": "3b037ede",
   "metadata": {
    "scrolled": true
   },
   "outputs": [],
   "source": [
    "env = gym.make('MountainCar-v0')\n",
    "Qpts = None"
   ]
  },
  {
   "attachments": {},
   "cell_type": "markdown",
   "id": "5c5f0270",
   "metadata": {},
   "source": [
    "# Training"
   ]
  },
  {
   "cell_type": "code",
   "execution_count": 8,
   "id": "6922dc4e",
   "metadata": {},
   "outputs": [],
   "source": [
    "def rewards_calcul(pos):\n",
    "    if (pos >= 0.5):\n",
    "        return 2\n",
    "    else:\n",
    "        return (pos + 1.2) / 1.8 - 1"
   ]
  },
  {
   "cell_type": "code",
   "execution_count": 9,
   "id": "cf21fb40",
   "metadata": {},
   "outputs": [],
   "source": [
    "def stateSpace(env):\n",
    "    size_states = (env.observation_space.high - env.observation_space.low) * np.array([10, 50])\n",
    "    size_states = np.around(size_states, 0).astype(int) + 1\n",
    "    return size_states"
   ]
  },
  {
   "cell_type": "code",
   "execution_count": 10,
   "id": "eaa8ce45",
   "metadata": {},
   "outputs": [],
   "source": [
    "def lower_state(env):\n",
    "    state = env.reset()\n",
    "    low_state = (state - env.observation_space.low) * np.array([10, 50])\n",
    "    low_state = np.round(low_state, 0).astype(int)\n",
    "    return low_state"
   ]
  },
  {
   "cell_type": "code",
   "execution_count": 11,
   "id": "0cd8b263",
   "metadata": {},
   "outputs": [],
   "source": [
    "def update(learningRate, nextState, nextState_adj, Q_Table, currentState, action):\n",
    "    delta = learningRate * (rewards_calcul(nextState[0]) + np.max(Q_Table[nextState_adj[0], nextState_adj[1]]) - Q_Table[currentState[0], currentState[1], action])\n",
    "    return delta"
   ]
  },
  {
   "cell_type": "code",
   "execution_count": 12,
   "id": "2466c4f2",
   "metadata": {},
   "outputs": [],
   "source": [
    "def training(env, learningrate, epsilon, min_epsilon, episodes):\n",
    "\n",
    "    reward_list = []\n",
    "    average_rewards = []    \n",
    "    eps1 = epsilon\n",
    "    first = episodes + 1\n",
    "    size_states = stateSpace(env)\n",
    "    \n",
    "    Q_Table = np.random.uniform(low = -1, high = 0, size = (size_states[0], size_states[1], env.action_space.n))    \n",
    "    Qinit = np.copy(Q_Table)\n",
    "    \n",
    "    for i in range(episodes):\n",
    "        done = False\n",
    "        tot_reward = 0\n",
    "        reward = 0\n",
    "        env.reset()\n",
    "        \n",
    "        state_adj = lower_state(env)\n",
    "        \n",
    "        while done != True:\n",
    "            # Calculate next action\n",
    "            if np.random.random() < 1 - epsilon:\n",
    "                action = np.argmax(Q_Table[state_adj[0], state_adj[1]])\n",
    "            else:\n",
    "                action = np.random.randint(0, env.action_space.n)\n",
    "                \n",
    "            nextState, reward, done, _ = env.step(action)\n",
    "            \n",
    "            nextState_adj = (nextState - env.observation_space.low) * np.array([10, 50])\n",
    "            nextState_adj = np.round(nextState_adj, 0).astype(int)\n",
    "            \n",
    "            row = np.array([state_adj[0], state_adj[1], action])\n",
    "            \n",
    "            # Allow for terminal state\n",
    "            if done and nextState[0] >= 0.5:\n",
    "                Q_Table[state_adj[0], state_adj[1], action] = reward\n",
    "            # Adjust Q value for current state\n",
    "            else:\n",
    "                delta = update(learningrate, nextState, nextState_adj, Q_Table, state_adj, action)\n",
    "                Q_Table[state_adj[0], state_adj[1], action] += delta\n",
    "            \n",
    "            # Say when first success occurs\n",
    "            if nextState[0] >= 0.5 and i < first:\n",
    "                first = i\n",
    "                print('First time reaching goal on epsiode {}'.format(first + 1))\n",
    "            \n",
    "            tot_reward += rewards_calcul(nextState[0])\n",
    "            state_adj = nextState_adj\n",
    "        \n",
    "        if epsilon > min_epsilon:\n",
    "            epsilon *= eps1\n",
    "            \n",
    "        reward_list.append(tot_reward)\n",
    "        \n",
    "        if (i + 1) % 100 == 0:\n",
    "            ave_reward = np.mean(reward_list)\n",
    "            average_rewards.append(ave_reward)\n",
    "            reward_list = []\n",
    "            print('Episode {} Average Reward: {}'.format(i + 1, ave_reward))\n",
    "        \n",
    "    env.close()\n",
    "    return average_rewards, Q_Table, Qinit\n",
    "        "
   ]
  },
  {
   "cell_type": "code",
   "execution_count": 8,
   "id": "548cf497",
   "metadata": {},
   "outputs": [
    {
     "name": "stdout",
     "output_type": "stream",
     "text": [
      "Episode 100 Average Reward: -124.87117748989\n",
      "Episode 200 Average Reward: -124.69561486914752\n",
      "Episode 300 Average Reward: -125.0994041423003\n",
      "Episode 400 Average Reward: -124.95931698724418\n",
      "Episode 500 Average Reward: -124.8774333804173\n",
      "Episode 600 Average Reward: -125.0985500107222\n",
      "Episode 700 Average Reward: -124.02876699250977\n",
      "Episode 800 Average Reward: -124.3995555999477\n",
      "Episode 900 Average Reward: -123.65755292625498\n",
      "First time reaching goal on epsiode 908\n",
      "Episode 1000 Average Reward: -124.57879487771594\n",
      "Episode 1100 Average Reward: -123.9720963533125\n",
      "Episode 1200 Average Reward: -123.66913878393156\n",
      "Episode 1300 Average Reward: -122.41190176475433\n",
      "Episode 1400 Average Reward: -123.04915669257852\n",
      "Episode 1500 Average Reward: -122.22274414317987\n",
      "Episode 1600 Average Reward: -121.97084211102474\n",
      "Episode 1700 Average Reward: -119.83062276859913\n",
      "Episode 1800 Average Reward: -119.21890848276651\n",
      "Episode 1900 Average Reward: -121.55874736726733\n",
      "Episode 2000 Average Reward: -119.97352015767918\n",
      "Episode 2100 Average Reward: -119.7145694621759\n",
      "Episode 2200 Average Reward: -121.8595181411133\n",
      "Episode 2300 Average Reward: -113.86309690900994\n",
      "Episode 2400 Average Reward: -113.22237290249808\n",
      "Episode 2500 Average Reward: -111.87316873849782\n",
      "Episode 2600 Average Reward: -117.35379796539424\n",
      "Episode 2700 Average Reward: -108.38658498652232\n",
      "Episode 2800 Average Reward: -110.32143490965474\n",
      "Episode 2900 Average Reward: -118.40242594160695\n",
      "Episode 3000 Average Reward: -113.00822654887885\n",
      "Episode 3100 Average Reward: -107.10361747207715\n",
      "Episode 3200 Average Reward: -117.79427588904078\n",
      "Episode 3300 Average Reward: -116.33363525899607\n",
      "Episode 3400 Average Reward: -116.0905243319966\n",
      "Episode 3500 Average Reward: -117.16886381187736\n",
      "Episode 3600 Average Reward: -109.9981953150997\n",
      "Episode 3700 Average Reward: -109.00090266841993\n",
      "Episode 3800 Average Reward: -110.9230922908684\n",
      "Episode 3900 Average Reward: -99.18290532205724\n",
      "Episode 4000 Average Reward: -106.39229810507035\n",
      "Episode 4100 Average Reward: -108.70315977632775\n",
      "Episode 4200 Average Reward: -119.28635462581244\n",
      "Episode 4300 Average Reward: -96.2689718188866\n",
      "Episode 4400 Average Reward: -96.93820647077878\n",
      "Episode 4500 Average Reward: -102.01639395127597\n",
      "Episode 4600 Average Reward: -96.23918052826659\n",
      "Episode 4700 Average Reward: -105.91198159602402\n",
      "Episode 4800 Average Reward: -104.07813840568144\n",
      "Episode 4900 Average Reward: -104.06338974781318\n",
      "Episode 5000 Average Reward: -101.90223267676875\n",
      "Episode 5100 Average Reward: -104.80518537983907\n",
      "Episode 5200 Average Reward: -94.7014960307495\n",
      "Episode 5300 Average Reward: -92.03232042751848\n",
      "Episode 5400 Average Reward: -91.66446350531356\n",
      "Episode 5500 Average Reward: -91.55180611349373\n",
      "Episode 5600 Average Reward: -91.11207509548927\n",
      "Episode 5700 Average Reward: -91.43596360432728\n",
      "Episode 5800 Average Reward: -90.48256597306452\n",
      "Episode 5900 Average Reward: -96.79610810181931\n",
      "Episode 6000 Average Reward: -92.71404907782873\n",
      "Episode 6100 Average Reward: -90.9116611231159\n",
      "Episode 6200 Average Reward: -93.10558935319813\n",
      "Episode 6300 Average Reward: -92.25656101673923\n",
      "Episode 6400 Average Reward: -91.08726096807045\n",
      "Episode 6500 Average Reward: -91.59236116707172\n",
      "Episode 6600 Average Reward: -91.3563177624379\n",
      "Episode 6700 Average Reward: -91.36053832376439\n",
      "Episode 6800 Average Reward: -92.58884665014733\n",
      "Episode 6900 Average Reward: -97.56214484545931\n",
      "Episode 7000 Average Reward: -110.13047928103599\n",
      "Episode 7100 Average Reward: -90.96221205336717\n",
      "Episode 7200 Average Reward: -89.13886950670464\n",
      "Episode 7300 Average Reward: -93.24306528502477\n",
      "Episode 7400 Average Reward: -89.25990628815154\n",
      "Episode 7500 Average Reward: -91.60945726049972\n",
      "Episode 7600 Average Reward: -91.94389135353853\n",
      "Episode 7700 Average Reward: -89.85067092419273\n",
      "Episode 7800 Average Reward: -89.7218625184504\n",
      "Episode 7900 Average Reward: -89.76895449038913\n",
      "Episode 8000 Average Reward: -90.14796539430591\n",
      "Episode 8100 Average Reward: -90.88970868899438\n",
      "Episode 8200 Average Reward: -90.12268696978207\n",
      "Episode 8300 Average Reward: -89.48901248131999\n",
      "Episode 8400 Average Reward: -91.47899144639871\n",
      "Episode 8500 Average Reward: -89.35694587034823\n",
      "Episode 8600 Average Reward: -87.2683169207851\n",
      "Episode 8700 Average Reward: -90.88939538642994\n",
      "Episode 8800 Average Reward: -90.35876398755114\n",
      "Episode 8900 Average Reward: -88.43829767707675\n",
      "Episode 9000 Average Reward: -90.3728947815808\n",
      "Episode 9100 Average Reward: -87.59199150655596\n",
      "Episode 9200 Average Reward: -92.08768532886702\n",
      "Episode 9300 Average Reward: -89.98027046364399\n",
      "Episode 9400 Average Reward: -90.87572823779678\n",
      "Episode 9500 Average Reward: -87.90603729546363\n",
      "Episode 9600 Average Reward: -89.60592044352124\n",
      "Episode 9700 Average Reward: -91.011525616876\n",
      "Episode 9800 Average Reward: -90.24056323072398\n",
      "Episode 9900 Average Reward: -89.35503665385542\n",
      "Episode 10000 Average Reward: -89.73486470933271\n"
     ]
    }
   ],
   "source": [
    "env.reset()\n",
    "rewards, Qpts, Qinit = training(env, 0.2, 0.999, 0, 10000)\n",
    "np.savetxt(\"data.csv\", Qpts.reshape(-1, Qpts.shape[-1]), delimiter=\",\")"
   ]
  },
  {
   "cell_type": "code",
   "execution_count": null,
   "id": "99aedbf5",
   "metadata": {},
   "outputs": [],
   "source": [
    "plt.plot(100 * (np.arange(len(rewards)) + 1), rewards)\n",
    "plt.xlabel('Episodes')\n",
    "plt.ylabel('Average Reward')\n",
    "plt.title('Average Reward per Episodes')"
   ]
  },
  {
   "attachments": {},
   "cell_type": "markdown",
   "id": "751d3952",
   "metadata": {},
   "source": [
    "# Testing"
   ]
  },
  {
   "cell_type": "code",
   "execution_count": 13,
   "id": "b005c443",
   "metadata": {},
   "outputs": [],
   "source": [
    "def load_data():\n",
    "    Q_Table_flat = np.loadtxt(\"data.csv\", delimiter=\",\")\n",
    "    size_states = stateSpace(env)\n",
    "    Q_Table_shape = (size_states[0], size_states[1], env.action_space.n)\n",
    "    Qpts = Q_Table_flat.reshape(*Q_Table_shape)\n",
    "    return Qpts"
   ]
  },
  {
   "cell_type": "code",
   "execution_count": 14,
   "id": "0cd8ece1",
   "metadata": {},
   "outputs": [],
   "source": [
    "def testing(env, Q_Table):\n",
    "    if Q_Table == None:\n",
    "        Q_Table = load_data()\n",
    "    env.reset()\n",
    "    state_adj = lower_state(env)\n",
    "    done = False\n",
    "    while not done:\n",
    "        env.render()\n",
    "        action = np.argmax(Q_Table[state_adj[0], state_adj[1]])\n",
    "        next_state, reward, done, _ = env.step(action)\n",
    "        state_adj = (next_state - env.observation_space.low) * np.array([10, 50])\n",
    "        state_adj = np.round(state_adj, 0).astype(int)\n",
    "    env.close()"
   ]
  },
  {
   "cell_type": "code",
   "execution_count": 19,
   "id": "0ce13e7a",
   "metadata": {},
   "outputs": [],
   "source": [
    "env.reset()\n",
    "testing(env, Qpts)"
   ]
  }
 ],
 "metadata": {
  "kernelspec": {
   "display_name": "Python 3",
   "language": "python",
   "name": "python3"
  },
  "language_info": {
   "codemirror_mode": {
    "name": "ipython",
    "version": 3
   },
   "file_extension": ".py",
   "mimetype": "text/x-python",
   "name": "python",
   "nbconvert_exporter": "python",
   "pygments_lexer": "ipython3",
   "version": "3.8.10"
  },
  "vscode": {
   "interpreter": {
    "hash": "916dbcbb3f70747c44a77c7bcd40155683ae19c65e1c03b4aa3499c5328201f1"
   }
  }
 },
 "nbformat": 4,
 "nbformat_minor": 5
}
