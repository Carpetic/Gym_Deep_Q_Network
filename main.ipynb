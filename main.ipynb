{
 "cells": [
  {
   "attachments": {},
   "cell_type": "markdown",
   "id": "2d96a286",
   "metadata": {},
   "source": [
    "## Installation"
   ]
  },
  {
   "cell_type": "code",
   "execution_count": null,
   "id": "1e6d8b3d",
   "metadata": {},
   "outputs": [],
   "source": [
    "%pip install gym==0.21.0\n",
    "%pip install numpy\n",
    "%pip install matplotlib"
   ]
  },
  {
   "attachments": {},
   "cell_type": "markdown",
   "id": "f7103c06",
   "metadata": {},
   "source": [
    "## Environement Setup"
   ]
  },
  {
   "cell_type": "code",
   "execution_count": null,
   "id": "7204cbdd",
   "metadata": {},
   "outputs": [],
   "source": [
    "import gym\n",
    "import numpy as np\n",
    "import matplotlib.pyplot as plt"
   ]
  },
  {
   "cell_type": "code",
   "execution_count": null,
   "id": "3b037ede",
   "metadata": {
    "scrolled": true
   },
   "outputs": [],
   "source": [
    "env = gym.make('MountainCar-v0')\n",
    "Qpts = None"
   ]
  },
  {
   "attachments": {},
   "cell_type": "markdown",
   "id": "5c5f0270",
   "metadata": {},
   "source": [
    "# Training"
   ]
  },
  {
   "cell_type": "code",
   "execution_count": null,
   "id": "6922dc4e",
   "metadata": {},
   "outputs": [],
   "source": [
    "def rewards_calcul(pos):\n",
    "    if (pos >= 0.5):\n",
    "        return 2\n",
    "    else:\n",
    "        return (pos + 1.2) / 1.8 - 1"
   ]
  },
  {
   "cell_type": "code",
   "execution_count": null,
   "id": "cf21fb40",
   "metadata": {},
   "outputs": [],
   "source": [
    "def stateSpace(env):\n",
    "    size_states = (env.observation_space.high - env.observation_space.low) * np.array([10, 50])\n",
    "    size_states = np.around(size_states, 0).astype(int) + 1\n",
    "    return size_states"
   ]
  },
  {
   "cell_type": "code",
   "execution_count": null,
   "id": "eaa8ce45",
   "metadata": {},
   "outputs": [],
   "source": [
    "def lower_state(env):\n",
    "    state = env.reset()\n",
    "    low_state = (state - env.observation_space.low) * np.array([10, 50])\n",
    "    low_state = np.round(low_state, 0).astype(int)\n",
    "    return low_state"
   ]
  },
  {
   "cell_type": "code",
   "execution_count": null,
   "id": "0cd8b263",
   "metadata": {},
   "outputs": [],
   "source": [
    "def update(learningRate, nextState, nextState_adj, Q_Table, currentState, action):\n",
    "    delta = learningRate * (rewards_calcul(nextState[0]) + np.max(Q_Table[nextState_adj[0], nextState_adj[1]]) - Q_Table[currentState[0], currentState[1], action])\n",
    "    return delta"
   ]
  },
  {
   "cell_type": "code",
   "execution_count": null,
   "id": "2466c4f2",
   "metadata": {},
   "outputs": [],
   "source": [
    "def training(env, learningrate, epsilon, min_epsilon, episodes):\n",
    "\n",
    "    reward_list = []\n",
    "    average_rewards = []    \n",
    "    eps1 = epsilon\n",
    "    first = episodes + 1\n",
    "    size_states = stateSpace(env)\n",
    "    \n",
    "    Q_Table = np.random.uniform(low = -1, high = 0, size = (size_states[0], size_states[1], env.action_space.n))    \n",
    "    Qinit = np.copy(Q_Table)\n",
    "    \n",
    "    for i in range(episodes):\n",
    "        done = False\n",
    "        tot_reward = 0\n",
    "        reward = 0\n",
    "        env.reset()\n",
    "        \n",
    "        state_adj = lower_state(env)\n",
    "        \n",
    "        while done != True:\n",
    "            # Calculate next action\n",
    "            if np.random.random() < 1 - epsilon:\n",
    "                action = np.argmax(Q_Table[state_adj[0], state_adj[1]])\n",
    "            else:\n",
    "                action = np.random.randint(0, env.action_space.n)\n",
    "                \n",
    "            nextState, reward, done, _ = env.step(action)\n",
    "            \n",
    "            nextState_adj = (nextState - env.observation_space.low) * np.array([10, 50])\n",
    "            nextState_adj = np.round(nextState_adj, 0).astype(int)\n",
    "            \n",
    "            row = np.array([state_adj[0], state_adj[1], action])\n",
    "            \n",
    "            # Allow for terminal state\n",
    "            if done and nextState[0] >= 0.5:\n",
    "                Q_Table[state_adj[0], state_adj[1], action] = reward\n",
    "            # Adjust Q value for current state\n",
    "            else:\n",
    "                delta = update(learningrate, nextState, nextState_adj, Q_Table, state_adj, action)\n",
    "                Q_Table[state_adj[0], state_adj[1], action] += delta\n",
    "            \n",
    "            # Say when first success occurs\n",
    "            if nextState[0] >= 0.5 and i < first:\n",
    "                first = i\n",
    "                print('First time reaching goal on epsiode {}'.format(first + 1))\n",
    "            \n",
    "            tot_reward += rewards_calcul(nextState[0])\n",
    "            state_adj = nextState_adj\n",
    "        \n",
    "        if epsilon > min_epsilon:\n",
    "            epsilon *= eps1\n",
    "            \n",
    "        reward_list.append(tot_reward)\n",
    "        \n",
    "        if (i + 1) % 100 == 0:\n",
    "            ave_reward = np.mean(reward_list)\n",
    "            average_rewards.append(ave_reward)\n",
    "            reward_list = []\n",
    "            print('Episode {} Average Reward: {}'.format(i + 1, ave_reward))\n",
    "        \n",
    "    env.close()\n",
    "    return average_rewards, Q_Table, Qinit\n",
    "        "
   ]
  },
  {
   "cell_type": "code",
   "execution_count": null,
   "id": "548cf497",
   "metadata": {},
   "outputs": [],
   "source": [
    "env.reset()\n",
    "rewards, Qpts, Qinit = training(env, 0.2, 0.999, 0, 10000)\n",
    "np.savetxt(\"data.csv\", Qpts.reshape(-1, Qpts.shape[-1]), delimiter=\",\")"
   ]
  },
  {
   "cell_type": "code",
   "execution_count": null,
   "id": "99aedbf5",
   "metadata": {},
   "outputs": [],
   "source": [
    "plt.plot(100 * (np.arange(len(rewards)) + 1), rewards)\n",
    "plt.xlabel('Episodes')\n",
    "plt.ylabel('Average Reward')\n",
    "plt.title('Average Reward per Episodes')"
   ]
  },
  {
   "attachments": {},
   "cell_type": "markdown",
   "id": "751d3952",
   "metadata": {},
   "source": [
    "# Testing"
   ]
  },
  {
   "cell_type": "code",
   "execution_count": null,
   "id": "b005c443",
   "metadata": {},
   "outputs": [],
   "source": [
    "def load_data():\n",
    "    Q_Table_flat = np.loadtxt(\"data.csv\", delimiter=\",\")\n",
    "    size_states = stateSpace(env)\n",
    "    Q_Table_shape = (size_states[0], size_states[1], env.action_space.n)\n",
    "    Qpts = Q_Table_flat.reshape(*Q_Table_shape)\n",
    "    return Qpts"
   ]
  },
  {
   "cell_type": "code",
   "execution_count": null,
   "id": "0cd8ece1",
   "metadata": {},
   "outputs": [],
   "source": [
    "def testing(env, Q_Table):\n",
    "    if Q_Table == None:\n",
    "        Q_Table = load_data()\n",
    "    env.reset()\n",
    "    state_adj = lower_state(env)\n",
    "    done = False\n",
    "    while not done:\n",
    "        env.render()\n",
    "        action = np.argmax(Q_Table[state_adj[0], state_adj[1]])\n",
    "        next_state, reward, done, _ = env.step(action)\n",
    "        state_adj = (next_state - env.observation_space.low) * np.array([10, 50])\n",
    "        state_adj = np.round(state_adj, 0).astype(int)\n",
    "    env.close()"
   ]
  },
  {
   "cell_type": "code",
   "execution_count": null,
   "id": "0ce13e7a",
   "metadata": {},
   "outputs": [],
   "source": [
    "env.reset()\n",
    "testing(env, Qpts)"
   ]
  }
 ],
 "metadata": {
  "kernelspec": {
   "display_name": "Python 3",
   "language": "python",
   "name": "python3"
  },
  "language_info": {
   "codemirror_mode": {
    "name": "ipython",
    "version": 3
   },
   "file_extension": ".py",
   "mimetype": "text/x-python",
   "name": "python",
   "nbconvert_exporter": "python",
   "pygments_lexer": "ipython3",
   "version": "3.8.10"
  },
  "vscode": {
   "interpreter": {
    "hash": "916dbcbb3f70747c44a77c7bcd40155683ae19c65e1c03b4aa3499c5328201f1"
   }
  }
 },
 "nbformat": 4,
 "nbformat_minor": 5
}
